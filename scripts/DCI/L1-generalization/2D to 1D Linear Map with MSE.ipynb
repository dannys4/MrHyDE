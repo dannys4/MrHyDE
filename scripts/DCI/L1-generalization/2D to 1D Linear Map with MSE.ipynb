{
 "cells": [
  {
   "cell_type": "code",
   "execution_count": null,
   "id": "d8ba0d37",
   "metadata": {},
   "outputs": [],
   "source": [
    "import numpy as np\n",
    "import scipy.stats as sps\n",
    "\n",
    "import matplotlib.pyplot as plt\n",
    "%matplotlib inline"
   ]
  },
  {
   "cell_type": "code",
   "execution_count": null,
   "id": "922c112f",
   "metadata": {},
   "outputs": [],
   "source": [
    "from scipy.integrate import quad,simpson\n",
    "from sklearn.neighbors import KernelDensity\n",
    "from sklearn.model_selection import GridSearchCV, ShuffleSplit"
   ]
  },
  {
   "cell_type": "code",
   "execution_count": null,
   "id": "bf4e93f4",
   "metadata": {},
   "outputs": [],
   "source": [
    "from distr_tools import mixture_dist"
   ]
  },
  {
   "cell_type": "markdown",
   "id": "c1181cc7",
   "metadata": {},
   "source": [
    "Plotting Parameters"
   ]
  },
  {
   "cell_type": "code",
   "execution_count": null,
   "id": "bc33b775",
   "metadata": {},
   "outputs": [],
   "source": [
    "fsize = 4.\n",
    "folder = '../fig/'"
   ]
  },
  {
   "cell_type": "markdown",
   "id": "f4df60df",
   "metadata": {},
   "source": [
    "Helper functions"
   ]
  },
  {
   "cell_type": "code",
   "execution_count": null,
   "id": "1ea4ed2f",
   "metadata": {},
   "outputs": [],
   "source": [
    "class mv_uniform:\n",
    "    def __init__(self,unif_list):\n",
    "        self.d = len(unif_list)\n",
    "        self.dist_list = unif_list\n",
    "        \n",
    "    def pdf(self,x):\n",
    "        this_x = np.atleast_2d(x)\n",
    "        pdf_out = np.ones(len(this_x))\n",
    "        for i,pdf in enumerate(self.dist_list):\n",
    "            pdf_out *= pdf.pdf(this_x[:,i])\n",
    "        return pdf_out"
   ]
  },
  {
   "cell_type": "code",
   "execution_count": null,
   "id": "3e4e3c80",
   "metadata": {},
   "outputs": [],
   "source": [
    "class dci_update:\n",
    "    def __init__(self,init_dist,predict_dist,observed_dist,Qmap):\n",
    "        self.init = init_dist\n",
    "        self.predict = predict_dist\n",
    "        self.observe = observed_dist\n",
    "        self.Qmap = Qmap\n",
    "        \n",
    "    def pdf(self,lam):\n",
    "        pdf_out = np.zeros(len(lam))\n",
    "        lam_init_pdf = self.init.pdf(lam)\n",
    "        q = Qmap(lam)\n",
    "        q_obs_pdf = self.observe.pdf(q)\n",
    "        q_pred_pdf = self.predict.pdf(q)\n",
    "        \n",
    "        nonzero = np.logical_and(lam_init_pdf > 0., q_obs_pdf > 0.)\n",
    "        \n",
    "        r_ratio = q_obs_pdf[nonzero]/q_pred_pdf[nonzero]\n",
    "        \n",
    "        pdf_out[nonzero] = lam_init_pdf[nonzero]*r_ratio\n",
    "        \n",
    "        return pdf_out\n",
    "        \n",
    "        \n",
    "        "
   ]
  },
  {
   "cell_type": "markdown",
   "id": "0e2faca3",
   "metadata": {},
   "source": [
    "### MSE Lp convergence Example"
   ]
  },
  {
   "cell_type": "code",
   "execution_count": null,
   "id": "57fb6c07",
   "metadata": {},
   "outputs": [],
   "source": [
    "tripeaks = [sps.norm(-1+i,[0.2,0.3,0.4][i]) for i in range(3)]\n",
    "obs_dist = mixture_dist(tripeaks,[1/5,2/5,3/5])\n",
    "\n",
    "init_dist = sps.multivariate_normal(np.zeros(2),np.eye(2))\n",
    "\n",
    "def Qmap(lam):\n",
    "    lam1,lam2 = np.atleast_2d(lam).T\n",
    "    return lam1+lam2\n",
    "\n",
    "# exact distribution is sum of normals\n",
    "pred_dist = sps.norm(0,np.sqrt(2))\n",
    "\n",
    "# exact update distribution\n",
    "tri_exact_update = dci_update(init_dist,pred_dist,obs_dist,Qmap)"
   ]
  },
  {
   "cell_type": "code",
   "execution_count": null,
   "id": "8126bd4c",
   "metadata": {},
   "outputs": [],
   "source": [
    "# Parameter Space Evaluation Matrices\n",
    "lamx,lamy = [np.linspace(-2.5,2.5,250+i) for i in range(2)]\n",
    "lamX,lamY = np.meshgrid(lamx,lamy)\n",
    "lamXY_eval = np.stack([lamX.reshape(-1,),lamY.reshape(-1,)],axis=1)"
   ]
  },
  {
   "cell_type": "code",
   "execution_count": null,
   "id": "ad3f9e80",
   "metadata": {},
   "outputs": [],
   "source": [
    "# # Plot the exact observed and predicted\n",
    "# qx = np.linspace(-4,4,250)\n",
    "# plt.plot(qx,obs_dist.pdf(qx))\n",
    "# plt.plot(qx,pred_dist.pdf(qx))\n",
    "# pred_sample = Qmap(init_dist.rvs(1000))\n",
    "# plt.hist(pred_sample,density=True,alpha=0.5)"
   ]
  },
  {
   "cell_type": "code",
   "execution_count": null,
   "id": "30e1580c",
   "metadata": {},
   "outputs": [],
   "source": [
    "# # Plot the exact update\n",
    "# up_exact_pdf = tri_exact_update.pdf(lamXY_eval).reshape(lamX.shape)\n",
    "# plt.contour(lamX,lamY,up_exact_pdf)"
   ]
  },
  {
   "cell_type": "markdown",
   "id": "4113eb87",
   "metadata": {},
   "source": [
    "Generate the sample for evaluating KDEs of the observed distribution"
   ]
  },
  {
   "cell_type": "code",
   "execution_count": null,
   "id": "8a352867",
   "metadata": {},
   "outputs": [],
   "source": [
    "ex1_rng = np.random.default_rng(1234562)\n",
    "\n",
    "n_obs_max = 10000\n",
    "K_rep = 75\n",
    "obs_sample = obs_dist.rvs([K_rep,n_obs_max],random_state=ex1_rng)"
   ]
  },
  {
   "cell_type": "markdown",
   "id": "3e8ac694",
   "metadata": {},
   "source": [
    "**Compute AMISE Bandwidth**\n",
    "\n",
    "Compute AMISE bandwidth for a gaussian kernel density estimate that is a mixture of gaussian distributions."
   ]
  },
  {
   "cell_type": "code",
   "execution_count": null,
   "id": "aaceb798",
   "metadata": {},
   "outputs": [],
   "source": [
    "def norm_prime_prime(t):\n",
    "    x = np.array(t, dtype=float)\n",
    "    term = (x**2-1)*np.exp(-x**2/2)\n",
    "    weight = 1/np.sqrt(2*np.pi)\n",
    "    return term*weight\n",
    "\n",
    "# note that this function depends on obs_dist defined above\n",
    "def true_pi_prime_prime(q):  \n",
    "    x = np.array(q, dtype=float)\n",
    "    out = np.zeros_like(x)\n",
    "    \n",
    "    for k in np.arange(len(obs_dist.pdfs)):\n",
    "        y = (x- obs_dist.pdfs[k].mean())/obs_dist.pdfs[k].std()\n",
    "        out += obs_dist.weights[k]*norm_prime_prime(y)/(obs_dist.pdfs[k].std()**3)\n",
    "    \n",
    "    return out\n",
    "\n",
    "# compute the squared integral\n",
    "f = lambda q: true_pi_prime_prime(q)**2\n",
    "Rprimeprime,err = quad(f,-6,40)\n",
    "\n",
    "# compute hmise\n",
    "RK = 1/(2*np.sqrt(np.pi)) # computable by hand\n",
    "mu2K = 1 # computable by hand\n",
    "AMISE_factor = RK/(mu2K**2*Rprimeprime)\n",
    "print('Optimal Factor: ', AMISE_factor)\n"
   ]
  },
  {
   "cell_type": "code",
   "execution_count": null,
   "id": "43bd3729",
   "metadata": {},
   "outputs": [],
   "source": [
    "# define appropriate bandwidths for sample set\n",
    "n_list = np.geomspace(100,n_obs_max,5).astype(int)\n",
    "\n",
    "print('Optimal Bandwidth: ')\n",
    "h_mise_list = []\n",
    "for n in n_list:\n",
    "    h_mise = (1/n*AMISE_factor)**(1./5.)\n",
    "    h_mise_list.append(h_mise)\n",
    "    print('n={}\\t'.format(n),h_mise)"
   ]
  },
  {
   "cell_type": "markdown",
   "id": "00ccfe04",
   "metadata": {},
   "source": [
    "**Compute KDEs with optimal bandwidths**"
   ]
  },
  {
   "cell_type": "code",
   "execution_count": null,
   "id": "e3c64822",
   "metadata": {},
   "outputs": [],
   "source": [
    "obs_kde_dict = {}\n",
    "for n,h in zip(n_list,h_mise_list):\n",
    "    obs_kde_dict[n] = []\n",
    "    # compute kde over different sample sets\n",
    "    for K in range(K_rep):\n",
    "        kde_factor = h/np.std(obs_sample[K,0:n],ddof=1)\n",
    "        this_kde = sps.gaussian_kde(obs_sample[K,0:n],\n",
    "                                    bw_method=kde_factor)\n",
    "        obs_kde_dict[n].append(this_kde)"
   ]
  },
  {
   "cell_type": "code",
   "execution_count": null,
   "id": "b5d9edbe",
   "metadata": {},
   "outputs": [],
   "source": [
    "# shows observed vs. approximate\n",
    "# plt.plot(qx,obs_dist.pdf(qx),color='k')\n",
    "# for key in enumerate(obs_kde_dict.keys()):\n",
    "#     for K,kde in obs_kde_dict[key][0:5]:\n",
    "#         plt.plot(qx,kde.pdf(qx),ls='--',\n",
    "#                  label='$n_{{ {} }}={}$'.format(i,key))\n",
    "# plt.legend()"
   ]
  },
  {
   "cell_type": "markdown",
   "id": "9f8abd78",
   "metadata": {},
   "source": [
    "**Compute Lp-Error for Observed Distributions**"
   ]
  },
  {
   "cell_type": "code",
   "execution_count": null,
   "id": "171a0be2",
   "metadata": {},
   "outputs": [],
   "source": [
    "def Lp_err(x,dist1,dist2,p):\n",
    "    return np.abs(dist1.pdf(x)-dist2.pdf(x))**p"
   ]
  },
  {
   "cell_type": "code",
   "execution_count": null,
   "id": "8fffb77d",
   "metadata": {},
   "outputs": [],
   "source": [
    "obs_err_matrix = np.empty([len(n_list),K_rep])\n",
    "\n",
    "for i,key in enumerate(obs_kde_dict.keys()):\n",
    "    for j,kde in enumerate(obs_kde_dict[key]):\n",
    "        # note: using simpson's rule is fast and accurate enough for\n",
    "        # this example\n",
    "        qx = np.linspace(-4,4,250)        \n",
    "        this_err = simpson(Lp_err(qx,obs_dist,kde,2),qx)        \n",
    "#         this_err = quad(lambda x: Lp_err(x,obs_dist,kde,2),-4,5)[0]\n",
    "        obs_err_matrix[i,j] = this_err"
   ]
  },
  {
   "cell_type": "code",
   "execution_count": null,
   "id": "f53113db",
   "metadata": {},
   "outputs": [],
   "source": [
    "# Convergence plot with error bars\n",
    "errsy = np.log(obs_err_matrix).std(axis=1)\n",
    "out_err = sps.linregress(np.log(n_list),np.log(np.mean(obs_err_matrix,axis=1)))\n",
    "print(out_err.slope)\n",
    "\n",
    "this_x,this_y = np.log(n_list),np.log(np.mean(obs_err_matrix,axis=1))\n",
    "plt.errorbar(this_x,this_y,yerr=errsy,\n",
    "             marker='o',ls='None')\n",
    "plt.plot(this_x,out_err.intercept+this_x*out_err.slope)"
   ]
  },
  {
   "cell_type": "markdown",
   "id": "f13a9be5",
   "metadata": {},
   "source": [
    "**Compute the Update Lp-Error**"
   ]
  },
  {
   "cell_type": "code",
   "execution_count": null,
   "id": "a0d29d6f",
   "metadata": {},
   "outputs": [],
   "source": [
    "approx_update_dict = {}\n",
    "for n,h in zip(n_list,h_mise_list):\n",
    "    approx_update_dict[n] = []\n",
    "    # compute updates over different sample sets\n",
    "    for K in range(K_rep):\n",
    "        this_obs_kde = obs_kde_dict[n][K]\n",
    "        this_update = dci_update(init_dist,pred_dist,this_obs_kde,Qmap)\n",
    "        approx_update_dict[n].append(this_update)"
   ]
  },
  {
   "cell_type": "code",
   "execution_count": null,
   "id": "898cd195",
   "metadata": {},
   "outputs": [],
   "source": [
    "n = n_list[3]\n",
    "exact_update_pdf = tri_exact_update.pdf(lamXY_eval).reshape(lamX.shape)\n",
    "approx_update_pdf = approx_update_dict[n][0].pdf(lamXY_eval).reshape(lamX.shape)\n",
    "\n",
    "pdf_list = [exact_update_pdf,approx_update_pdf]\n",
    "this_min,this_max = np.array(pdf_list).min(),np.array(pdf_list).max()\n",
    "pdf_titles = ['Exact','Approx']\n",
    "\n",
    "fig,axes = plt.subplots(1,2)\n",
    "fig.set_figwidth(2*fsize)\n",
    "for i,ax in enumerate(axes):\n",
    "    ax.contour(lamX,lamY,pdf_list[i],vmin=this_min,vmax=this_max)\n",
    "    ax.set_title(pdf_titles[i])"
   ]
  },
  {
   "cell_type": "code",
   "execution_count": null,
   "id": "34f61882",
   "metadata": {},
   "outputs": [],
   "source": [
    "update_err_matrix = np.empty([len(n_list),K_rep])\n",
    "\n",
    "for i,key in enumerate(approx_update_dict.keys()):\n",
    "    print('Working on... n=',key)\n",
    "    for j,approx_dist in enumerate(approx_update_dict[key]):\n",
    "        this_err = Lp_err(lamXY_eval,tri_exact_update,approx_dist,2).reshape(lamX.shape)\n",
    "        update_err_matrix[i,j] = simpson(simpson(this_err,lamx),lamy)\n",
    "print('Finished.')"
   ]
  },
  {
   "cell_type": "code",
   "execution_count": null,
   "id": "c56fdbfa",
   "metadata": {},
   "outputs": [],
   "source": [
    "# Convergence plot with error bars\n",
    "errsy = np.log(update_err_matrix).std(axis=1)\n",
    "out_err = sps.linregress(np.log(n_list),np.log(np.mean(update_err_matrix,axis=1)))\n",
    "print(out_err.slope)\n",
    "\n",
    "this_x,this_y = np.log(n_list),np.log(np.mean(update_err_matrix,axis=1))\n",
    "plt.errorbar(this_x,this_y,yerr=errsy,\n",
    "             marker='o',ls='None')\n",
    "plt.plot(this_x,out_err.intercept+this_x*out_err.slope)"
   ]
  },
  {
   "cell_type": "markdown",
   "id": "99ddfdf0",
   "metadata": {},
   "source": [
    "### Specific Figures for Example"
   ]
  },
  {
   "cell_type": "code",
   "execution_count": null,
   "id": "6f0b120e",
   "metadata": {},
   "outputs": [],
   "source": [
    "# setup of example figure\n",
    "ex1_fig_setup, axes = plt.subplots(2,2)\n",
    "ex1_fig_setup.set_figheight(2*fsize)\n",
    "ex1_fig_setup.set_figwidth(2*fsize)\n",
    "\n",
    "titles = [['Initial','Predicted'],['Update','Observed']]\n",
    "lamZ = [init_dist.pdf(lamXY_eval).reshape(lamX.shape),\n",
    "        tri_exact_update.pdf(lamXY_eval).reshape(lamX.shape)]\n",
    "q_pdfs = [pred_dist.pdf(qx),obs_dist.pdf(qx)]\n",
    "for i,ax_row in enumerate(axes):\n",
    "    for j,ax in enumerate(ax_row):\n",
    "        if j==0:\n",
    "            ax.contour(lamX,lamY,lamZ[i])\n",
    "        else:\n",
    "            ax.plot(qx,q_pdfs[j-i],color='C{}'.format(j-i),alpha=0.25)\n",
    "            ax.plot(qx,q_pdfs[i],color='C{}'.format(i))\n",
    "        ax.set_title(titles[i][j])\n",
    "        \n",
    "name_ex1_fig = 'ex1_fig_setup'\n",
    "# ex1_fig_setup.savefig(folder+name_ex1_fig)"
   ]
  },
  {
   "cell_type": "code",
   "execution_count": null,
   "id": "7a69a8a9",
   "metadata": {},
   "outputs": [],
   "source": [
    "# convergence figure\n",
    "ex1_fig_convergence, ax = plt.subplots(1)\n",
    "ex1_fig_convergence.set_figwidth(fsize)\n",
    "\n",
    "error_matrices = [obs_err_matrix,update_err_matrix]\n",
    "line_label = ['Obs.','Update']\n",
    "for i,err in enumerate(error_matrices):\n",
    "    # Convergence plot with error bars\n",
    "    errsy = np.log(err).std(axis=1)\n",
    "    out_err = sps.linregress(np.log(n_list),np.log(np.mean(err,axis=1)))\n",
    "    print(out_err.slope)\n",
    "\n",
    "    this_x,this_y = np.log(n_list),np.log(np.mean(err,axis=1))\n",
    "    ax.errorbar(this_x,this_y,yerr=errsy,\n",
    "                 marker='o',ls='None')\n",
    "    ax.plot(this_x,out_err.intercept+this_x*out_err.slope,\n",
    "            color='C{}'.format(i),\n",
    "            label='{}, $m={:0.3}$'.format(line_label[i],out_err.slope))\n",
    "ax.legend()\n",
    "name_ex1_fig2 = 'ex1_fig_convergence'\n",
    "# ex1_fig_convergence.savefig(folder+name_ex1_fig2)"
   ]
  },
  {
   "cell_type": "markdown",
   "id": "1df0bb8b",
   "metadata": {},
   "source": [
    "### Almost Everywhere Example\n",
    "\n",
    "Here is an example which illustrates the requirement of \"almost everywhere\" convergence.\n",
    "\n",
    "Consider..."
   ]
  },
  {
   "cell_type": "code",
   "execution_count": null,
   "id": "40e75d47",
   "metadata": {},
   "outputs": [],
   "source": [
    "# initial lambda\n",
    "lam1_dist = sps.uniform(0,1)\n",
    "lam2_dist = sps.uniform(0,1)\n",
    "init_dist = mv_uniform([lam1_dist,lam2_dist])\n",
    "\n",
    "def Qmap(lam):\n",
    "    lam1,lam2 = np.atleast_2d(lam).T\n",
    "    return lam1+lam2\n",
    "\n",
    "pred_dist = sps.triang(0.5,scale=2)\n",
    "obs_dist = sps.triang(0.5,scale=1)"
   ]
  },
  {
   "cell_type": "code",
   "execution_count": null,
   "id": "439c3070",
   "metadata": {},
   "outputs": [],
   "source": [
    "n_init = 5000\n",
    "n_obs = 500\n",
    "\n",
    "lam_init = np.stack([lam1_dist.rvs(n_init),lam2_dist.rvs(n_init)],\n",
    "                    axis=1) \n",
    "q_pred = Qmap(lam_init)\n",
    "q_obs = obs_dist.rvs(n_obs)"
   ]
  },
  {
   "cell_type": "code",
   "execution_count": null,
   "id": "501dacd0",
   "metadata": {},
   "outputs": [],
   "source": [
    "class approx_predict:\n",
    "    def __init__(self,c,n):\n",
    "        self.L_dist = sps.triang(1,loc=0,scale=c)\n",
    "        self.R_dist = sps.triang(0,loc=c,scale=2-c)\n",
    "        self.c = c\n",
    "        self.n = n\n",
    "        \n",
    "    def pdf(self,x,this_n=None):\n",
    "        n = self.n if this_n==None else this_n\n",
    "        \n",
    "        if type(x)==np.ndarray:\n",
    "            pdf_out = np.zeros_like(x)\n",
    "            xL = x[x <= self.c]\n",
    "            xR = x[x > self.c]\n",
    "            L_pdf = 1/2*self.L_dist.pdf(xL) \n",
    "            L_pdf += 1/n * sps.uniform(0,1.).pdf(xL)\n",
    "            R_pdf = 1/2*self.R_dist.pdf(xR)*((n-2)/n)\n",
    "            pdf_out[x<=self.c] = L_pdf\n",
    "            pdf_out[x>self.c] = R_pdf\n",
    "        else:\n",
    "            if x <= self.c:\n",
    "                pdf_out = 1/2*self.L_dist.pdf(x) \n",
    "                pdf_out += 1/n*sps.uniform(0,1).pdf(x)\n",
    "            else:\n",
    "                pdf_out = 1/2*self.R_dist.pdf(x)*((n-2)/n)\n",
    "            \n",
    "        return pdf_out"
   ]
  },
  {
   "cell_type": "code",
   "execution_count": null,
   "id": "6aa9bf94",
   "metadata": {},
   "outputs": [],
   "source": []
  },
  {
   "cell_type": "code",
   "execution_count": null,
   "id": "c23e0a9c",
   "metadata": {},
   "outputs": [],
   "source": [
    "# # check that approximation integrates to 1 on domain\n",
    "# # remember n>2.\n",
    "# quad(lambda x: pred_approx.pdf(x,3),-0.5,2.5)"
   ]
  },
  {
   "cell_type": "code",
   "execution_count": null,
   "id": "f35b20fe",
   "metadata": {},
   "outputs": [],
   "source": [
    "# # check plot visualization\n",
    "# x = np.linspace(-0.5,2.5,150)\n",
    "# plt.plot(x,pred_dist.pdf(x))\n",
    "# # plt.hist(q_pred,density=True,\n",
    "# #          edgecolor='k',alpha=0.5,color='xkcd:sky blue')\n",
    "# plt.plot(x,pred_approx.pdf(x,4))\n",
    "# plt.plot(x,obs_dist.pdf(x))"
   ]
  },
  {
   "cell_type": "markdown",
   "id": "dbc1925b",
   "metadata": {},
   "source": [
    "Figure of Setup"
   ]
  },
  {
   "cell_type": "code",
   "execution_count": null,
   "id": "35cadabc",
   "metadata": {},
   "outputs": [],
   "source": [
    "qx = np.linspace(-0.5,2.5,170)\n",
    "pred_approx = approx_predict(1.,20)\n",
    "\n",
    "ex2_fig_setup, ax = plt.subplots(1)\n",
    "ex2_fig_setup.set_figwidth(fsize)\n",
    "ax.plot(qx,obs_dist.pdf(qx),label='Obs.',color='k')\n",
    "ax.plot(qx,pred_dist.pdf(qx),label='Pred.',color='C0')\n",
    "\n",
    "for n in [2,4,8]:\n",
    "    ax.plot(qx,pred_approx.pdf(qx,n),color='C0',\n",
    "            ls='--',alpha=n/8,label='$n={}$'.format(n))\n",
    "ax.legend()\n",
    "\n",
    "name_ex2_fig_setup = 'ex2_fig_setup'\n",
    "# ex2_fig_setup.savefig(folder+name_ex2_fig_setup)"
   ]
  },
  {
   "cell_type": "code",
   "execution_count": null,
   "id": "0e220c1f",
   "metadata": {},
   "outputs": [],
   "source": [
    "# check rate of convergence\n",
    "p = 4\n",
    "n_array = np.logspace(1,3.5,8)\n",
    "mperr = np.zeros_like(n_array)\n",
    "\n",
    "for i,n in enumerate(n_array):\n",
    "    this_err = quad(lambda x: np.abs(pred_dist.pdf(x) - pred_approx.pdf(x,n))**p,\n",
    "                    0,2)[0]\n",
    "    mperr[i] = this_err\n"
   ]
  },
  {
   "cell_type": "code",
   "execution_count": null,
   "id": "d68abe1a",
   "metadata": {},
   "outputs": [],
   "source": [
    "out = sps.linregress(np.log(n_array),np.log(mperr))\n",
    "print(out.slope)\n",
    "plt.title('Rate of Convergence: $m={:0.2}$'.format(out.slope))\n",
    "plt.plot(np.log(n_array),np.log(mperr))"
   ]
  },
  {
   "cell_type": "code",
   "execution_count": null,
   "id": "d50cb50b",
   "metadata": {},
   "outputs": [],
   "source": [
    "lamx,lamy = [np.linspace(-0.1,1.1,950+i) for i in range(2)]\n",
    "lamX,lamY = np.meshgrid(lamx,lamy)\n",
    "lamXY_eval = np.stack([lamX.reshape(-1,),lamY.reshape(-1,)],axis=1)"
   ]
  },
  {
   "cell_type": "code",
   "execution_count": null,
   "id": "e271c5d0",
   "metadata": {},
   "outputs": [],
   "source": [
    "init_pdf = init_dist.pdf(lamXY_eval).reshape(lamX.shape)\n",
    "pred_approx = approx_predict(1.,20)\n",
    "\n",
    "update_exact = dci_update(init_dist,pred_dist,obs_dist,Qmap)\n",
    "update_approx = dci_update(init_dist,pred_approx,obs_dist,Qmap)\n",
    "\n",
    "# compute update and approx update\n",
    "update_pdf = update_exact.pdf(lamXY_eval).reshape(lamX.shape)\n",
    "update_approx_pdf = update_approx.pdf(lamXY_eval).reshape(lamX.shape)\n"
   ]
  },
  {
   "cell_type": "code",
   "execution_count": null,
   "id": "1a072ab9",
   "metadata": {},
   "outputs": [],
   "source": [
    "ex2_fig_update,axes = plt.subplots(1,2)\n",
    "ex2_fig_update.set_figwidth(2*fsize)\n",
    "\n",
    "pdf_list = [update_pdf,update_approx_pdf]\n",
    "plt_min,plt_max = (np.array(pdf_list).min(),np.array(pdf_list).max())\n",
    "for i,(ax,pdf) in enumerate(zip(axes,pdf_list)):\n",
    "    ax.contour(lamX,lamY,pdf,vmin=plt_min,vmax=plt_max,levels=20)\n",
    "    ax.set_title(['Update','Approx. Update, $n=20$'][i])\n",
    "    \n",
    "name_ex2_fig_update = 'ex2_fig_update'\n",
    "# ex2_fig_update.savefig(folder+name_ex2_fig_update)"
   ]
  },
  {
   "cell_type": "code",
   "execution_count": null,
   "id": "007e1cee",
   "metadata": {},
   "outputs": [],
   "source": [
    "def Lp_err(x,dist1,dist2,p):\n",
    "    return np.abs(dist1.pdf(x)-dist2.pdf(x))**p"
   ]
  },
  {
   "cell_type": "code",
   "execution_count": null,
   "id": "20a97290",
   "metadata": {},
   "outputs": [],
   "source": [
    "update_exact = dci_update(init_dist,pred_dist,obs_dist,Qmap)\n",
    "\n",
    "n_array = np.geomspace(20,10**3.5,8)\n",
    "mperr = np.zeros_like(n_array)\n",
    "up_mperr = np.zeros_like(n_array)\n",
    "\n",
    "for i,n in enumerate(n_array):\n",
    "    pred_approx = approx_predict(1.,n)\n",
    "    \n",
    "    # approximation error of predicted\n",
    "    this_err = quad(lambda x: Lp_err(x,pred_dist,pred_approx,p),0,2)[0]\n",
    "    mperr[i] = this_err\n",
    "    \n",
    "    # approximation error of updates\n",
    "    update_approx = dci_update(init_dist,pred_approx,obs_dist,Qmap)\n",
    "    this_Lp_err = Lp_err(lamXY_eval,update_exact,update_approx,p).reshape(lamX.shape)\n",
    "    up_err = simpson(simpson(this_Lp_err,lamx),lamy)\n",
    "    up_mperr[i] = up_err\n",
    "\n",
    "\n",
    "# simpson(simpson(np.abs(update_pdf-update_approx_pdf)**p,lamx),lamy)"
   ]
  },
  {
   "cell_type": "code",
   "execution_count": null,
   "id": "52e9563f",
   "metadata": {
    "scrolled": false
   },
   "outputs": [],
   "source": [
    "out_q = sps.linregress(np.log(n_array),np.log(mperr))\n",
    "out_lam = sps.linregress(np.log(n_array),np.log(up_mperr))\n",
    "print(out_q.slope)\n",
    "print(out_lam.slope)\n",
    "\n",
    "plt.title('Rate of Convergence')\n",
    "plt.plot(np.log(n_array),np.log(mperr),marker='o',\n",
    "         label='$D$, $m={:0.3}$'.format(out_q.slope))\n",
    "plt.plot(np.log(n_array),np.log(up_mperr),marker='o',\n",
    "         label='$\\\\Lambda$, $m={:0.3}$'.format(out_lam.slope))\n",
    "plt.legend()"
   ]
  },
  {
   "cell_type": "markdown",
   "id": "289b430a",
   "metadata": {},
   "source": [
    "**Cut Domain Into Pieces**"
   ]
  },
  {
   "cell_type": "code",
   "execution_count": null,
   "id": "5f58bc30",
   "metadata": {},
   "outputs": [],
   "source": [
    "delta = 0.05\n",
    "zeros = lamX<delta-lamY\n",
    "update_pdf = update_exact.pdf(lamXY_eval).reshape(lamX.shape)\n",
    "update_approx_pdf = update_approx.pdf(lamXY_eval).reshape(lamX.shape)\n",
    "update_pdf[zeros] = 0.\n",
    "update_approx_pdf[zeros] = 0.\n",
    "\n",
    "fig,axes = plt.subplots(1,2)\n",
    "\n",
    "pdf_list = [update_pdf,update_approx_pdf]\n",
    "plt_min,plt_max = (np.array(pdf_list).min(),np.array(pdf_list).max())\n",
    "for ax,pdf in zip(axes,pdf_list):\n",
    "    ax.contour(lamX,lamY,pdf,vmin=plt_min,vmax=plt_max,levels=20)"
   ]
  },
  {
   "cell_type": "markdown",
   "id": "daa30418",
   "metadata": {},
   "source": [
    "Choose $\\delta$ so that,\n",
    "\\begin{align}\n",
    "A_\\delta := \\{ q: \\pi^{predict}(q)\\leq \\delta\\} \\\\\n",
    "\\int_{A_\\delta} \\pi^{predict}(q) d\\mu_D < \\frac{\\epsilon}{C}\n",
    "\\end{align}\n",
    "\n",
    "Here we know that $C=4$ for the predictability assumption to be satisfied, since\n",
    "\\begin{align}\n",
    "\\dfrac{\\pi^{obs}(q)}{\\pi^{predict}(q)} &= \\dfrac{4q}{q} \\leq 4\n",
    "\\end{align}\n",
    "\n",
    "within the support of the observed, $[0,1]$.\n",
    "\n",
    "Thus, we can determine a set $A_\\delta$ using the following integral,\n",
    "\\begin{align}\n",
    "\\int_{A_\\delta} \\pi^{predict}(q) d\\mu_D &= \\int_{0}^{q_\\delta} q d\\mu_D\\\\\n",
    "&= \\left. \\frac{q^2}{2}\\right|_0^{q_\\delta} \\\\\n",
    "&= \\frac{q_\\delta^2}{2} < \\frac{\\epsilon}{4} \\\\\n",
    "\\Rightarrow\\quad q_\\delta=\\delta &< \\sqrt{\\frac{\\epsilon}{2}}\\Rightarrow \\int_{A_\\delta} \\pi^{predict}(q) d\\mu_D < \\frac{\\epsilon}{4}\n",
    "\\end{align}\n"
   ]
  },
  {
   "cell_type": "code",
   "execution_count": null,
   "id": "693249f2",
   "metadata": {},
   "outputs": [],
   "source": [
    "eps = 0.01\n",
    "delta = np.sqrt(eps/2)\n",
    "print(delta)\n",
    "zeros_A = lamX<delta-lamY\n",
    "\n",
    "mperr_nA = np.zeros_like(n_array)\n",
    "up_mperr_nA = np.zeros_like(n_array)\n",
    "\n",
    "for i,n in enumerate(n_array):\n",
    "    pred_approx = approx_predict(1.,n)\n",
    "    \n",
    "    # approximation error of predicted\n",
    "    this_err = quad(lambda x: Lp_err(x,pred_dist,pred_approx,p),delta,2)[0]\n",
    "    mperr_nA[i] = this_err\n",
    "    \n",
    "    # approximation error of updates\n",
    "    update_approx = dci_update(init_dist,pred_approx,obs_dist,Qmap)\n",
    "    this_Lp_err = Lp_err(lamXY_eval,update_exact,update_approx,p).reshape(lamX.shape)\n",
    "    this_Lp_err[zeros_A] = 0.\n",
    "    up_err = simpson(simpson(this_Lp_err,lamx),lamy)\n",
    "    up_mperr_nA[i] = up_err\n",
    "\n",
    "\n",
    "# simpson(simpson(np.abs(update_pdf-update_approx_pdf)**p,lamx),lamy)"
   ]
  },
  {
   "cell_type": "code",
   "execution_count": null,
   "id": "a27245f3",
   "metadata": {
    "scrolled": false
   },
   "outputs": [],
   "source": [
    "ex2_fig_convergence, ax = plt.subplots(1)\n",
    "ex2_fig_convergence.set_figwidth(fsize)\n",
    "\n",
    "out_q = sps.linregress(np.log(n_array),np.log(mperr))\n",
    "out_lam = sps.linregress(np.log(n_array),np.log(up_mperr))\n",
    "out_lam_nA = sps.linregress(np.log(n_array),np.log(up_mperr_nA))\n",
    "print(out_q.slope)\n",
    "print(out_lam.slope)\n",
    "print(out_lam_nA.slope)\n",
    "\n",
    "ax.set_title('Rate of Convergence')\n",
    "ax.plot(np.log(n_array),np.log(mperr),marker='o',\n",
    "         label='$D$, $m={:0.2}$'.format(out_q.slope))\n",
    "ax.plot(np.log(n_array),np.log(up_mperr),marker='o',\n",
    "         label='$\\\\Lambda$, $m={:0.2}$'.format(out_lam.slope))\n",
    "# plt.plot(np.log(n_array),np.log(mperr),marker='o',\n",
    "#          label='$D-A$, $m={:0.2}$'.format(out_q.slope))\n",
    "ax.plot(np.log(n_array),np.log(up_mperr_nA),marker='o',color='C3',\n",
    "         label='$\\\\Lambda\\\\,\\\\backslash\\\\, Q^{{ -1 }}(A)$, $m={:0.2}$'.format(out_lam_nA.slope))\n",
    "\n",
    "ax.legend()\n",
    "name_ex2_fig_convergence = 'ex2_fig_convergence'\n",
    "# ex2_fig_convergence.savefig(folder+name_ex2_fig_convergence)"
   ]
  },
  {
   "cell_type": "markdown",
   "id": "fe19d90e",
   "metadata": {},
   "source": [
    "**Linear Kernel FUNCTION?**"
   ]
  },
  {
   "cell_type": "code",
   "execution_count": null,
   "id": "d28925d1",
   "metadata": {},
   "outputs": [],
   "source": [
    "pred_tkde = KernelDensity(kernel='linear')\n",
    "this_SS = ShuffleSplit(n_splits=10,test_size=0.2)\n",
    "this_search = GridSearchCV(pred_tkde,{'bandwidth': np.logspace(-5,1)},cv=this_SS,\n",
    "                           refit=False)\n",
    "this_search.fit(q_pred.reshape(-1,1))\n",
    "print(this_search.best_params_)\n",
    "pred_tkde.bandwidth = this_search.best_params_['bandwidth']\n",
    "pred_tkde.fit(q_pred.reshape(-1,1))"
   ]
  },
  {
   "cell_type": "code",
   "execution_count": null,
   "id": "94f8fbe5",
   "metadata": {},
   "outputs": [],
   "source": [
    "x = np.linspace(-0.5,1.5,150)\n",
    "y = np.squeeze(np.exp(pred_tkde.score_samples(x.reshape(-1,1))))\n",
    "plt.plot(x,pred_dist.pdf(x))\n",
    "plt.plot(x,y)"
   ]
  },
  {
   "cell_type": "code",
   "execution_count": null,
   "id": "76e306ff",
   "metadata": {},
   "outputs": [],
   "source": [
    "x[35],y[35]"
   ]
  },
  {
   "cell_type": "code",
   "execution_count": null,
   "id": "a0ffabff",
   "metadata": {},
   "outputs": [],
   "source": []
  }
 ],
 "metadata": {
  "kernelspec": {
   "display_name": "Python 3 (ipykernel)",
   "language": "python",
   "name": "python3"
  },
  "language_info": {
   "codemirror_mode": {
    "name": "ipython",
    "version": 3
   },
   "file_extension": ".py",
   "mimetype": "text/x-python",
   "name": "python",
   "nbconvert_exporter": "python",
   "pygments_lexer": "ipython3",
   "version": "3.9.12"
  }
 },
 "nbformat": 4,
 "nbformat_minor": 5
}
