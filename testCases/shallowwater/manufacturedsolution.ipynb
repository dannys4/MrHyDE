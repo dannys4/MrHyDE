{
 "cells": [
  {
   "cell_type": "code",
   "execution_count": 2,
   "metadata": {},
   "outputs": [],
   "source": [
    "import sympy\n",
    "\n",
    "x,y,t = sympy.symbols('x,y,t')\n",
    "\n",
    "h = 2. + sympy.functions.exp(sympy.sin(3.*x)*sympy.sin(3.*y)-sympy.sin(3.*t))\n",
    "hu = sympy.cos(4.*t - x)\n",
    "hv = sympy.sin(4.*t + y)\n",
    "\n",
    "F_x = sympy.ImmutableDenseMatrix([[hu],[hu*hu/h + .5*h*h],[hu*hv/h]])\n",
    "F_y = sympy.ImmutableDenseMatrix([[hv],[hv*hu/h],[hv*hv/h + .5*h*h]])\n",
    "\n",
    "S = sympy.ImmutableDenseMatrix([[h],[hu],[hv]])\n",
    "\n",
    "dSdt = sympy.diff(S,t)\n",
    "\n",
    "dF_xdx = sympy.diff(F_x,x)\n",
    "dF_ydy = sympy.diff(F_y,y)\n",
    "\n",
    "L = dSdt + dF_xdx + dF_ydy\n",
    "\n",
    "L = L.simplify()"
   ]
  },
  {
   "cell_type": "code",
   "execution_count": 4,
   "metadata": {},
   "outputs": [
    {
     "data": {
      "text/latex": [
       "$\\displaystyle \\left[\\begin{matrix}- 3.0 e^{- \\sin{\\left(3.0 t \\right)} + \\sin{\\left(3.0 x \\right)} \\sin{\\left(3.0 y \\right)}} \\cos{\\left(3.0 t \\right)} + \\sin{\\left(4.0 t - x \\right)} + \\cos{\\left(4.0 t + y \\right)}\\\\\\frac{- 0.75 \\left(\\sin{\\left(3.0 x \\right)} \\sin{\\left(4.0 t + y \\right)} \\cos{\\left(3.0 y \\right)} + \\sin{\\left(3.0 y \\right)} \\cos{\\left(3.0 x \\right)} \\cos{\\left(4.0 t - x \\right)}\\right) \\left(e^{- \\sin{\\left(3.0 t \\right)} + \\sin{\\left(3.0 x \\right)} \\sin{\\left(3.0 y \\right)}} + 2.0\\right) e^{- \\sin{\\left(3.0 t \\right)} + \\sin{\\left(3.0 x \\right)} \\sin{\\left(3.0 y \\right)}} \\cos{\\left(4.0 t - x \\right)} + \\left(0.5 e^{\\sin{\\left(3.0 x \\right)} \\sin{\\left(3.0 y \\right)}} + 1.0 e^{\\sin{\\left(3.0 t \\right)}}\\right)^{3} \\left(6.0 e^{- 2 \\sin{\\left(3.0 t \\right)} + 2 \\sin{\\left(3.0 x \\right)} \\sin{\\left(3.0 y \\right)}} \\sin{\\left(3.0 y \\right)} \\cos{\\left(3.0 x \\right)} + 12.0 e^{- \\sin{\\left(3.0 t \\right)} + \\sin{\\left(3.0 x \\right)} \\sin{\\left(3.0 y \\right)}} \\sin{\\left(3.0 y \\right)} \\cos{\\left(3.0 x \\right)} - 8.0 \\sin{\\left(4.0 t - x \\right)}\\right) e^{- 3 \\sin{\\left(3.0 t \\right)}} + \\left(0.5 e^{- \\sin{\\left(3.0 t \\right)} + \\sin{\\left(3.0 x \\right)} \\sin{\\left(3.0 y \\right)}} + 1\\right)^{2} \\left(2 \\sin{\\left(4.0 t - x \\right)} + \\cos{\\left(4.0 t + y \\right)}\\right) \\cos{\\left(4.0 t - x \\right)}}{\\left(0.5 e^{- \\sin{\\left(3.0 t \\right)} + \\sin{\\left(3.0 x \\right)} \\sin{\\left(3.0 y \\right)}} + 1\\right)^{2} \\left(e^{- \\sin{\\left(3.0 t \\right)} + \\sin{\\left(3.0 x \\right)} \\sin{\\left(3.0 y \\right)}} + 2.0\\right)}\\\\\\frac{- 0.75 \\left(\\sin{\\left(3.0 x \\right)} \\sin{\\left(4.0 t + y \\right)} \\cos{\\left(3.0 y \\right)} + \\sin{\\left(3.0 y \\right)} \\cos{\\left(3.0 x \\right)} \\cos{\\left(4.0 t - x \\right)}\\right) \\left(e^{- \\sin{\\left(3.0 t \\right)} + \\sin{\\left(3.0 x \\right)} \\sin{\\left(3.0 y \\right)}} + 2.0\\right) e^{- \\sin{\\left(3.0 t \\right)} + \\sin{\\left(3.0 x \\right)} \\sin{\\left(3.0 y \\right)}} \\sin{\\left(4.0 t + y \\right)} + \\left(0.5 e^{\\sin{\\left(3.0 x \\right)} \\sin{\\left(3.0 y \\right)}} + 1.0 e^{\\sin{\\left(3.0 t \\right)}}\\right)^{3} \\left(6.0 e^{- 2 \\sin{\\left(3.0 t \\right)} + 2 \\sin{\\left(3.0 x \\right)} \\sin{\\left(3.0 y \\right)}} \\sin{\\left(3.0 x \\right)} \\cos{\\left(3.0 y \\right)} + 12.0 e^{- \\sin{\\left(3.0 t \\right)} + \\sin{\\left(3.0 x \\right)} \\sin{\\left(3.0 y \\right)}} \\sin{\\left(3.0 x \\right)} \\cos{\\left(3.0 y \\right)} + 8.0 \\cos{\\left(4.0 t + y \\right)}\\right) e^{- 3 \\sin{\\left(3.0 t \\right)}} + \\left(0.5 e^{- \\sin{\\left(3.0 t \\right)} + \\sin{\\left(3.0 x \\right)} \\sin{\\left(3.0 y \\right)}} + 1\\right)^{2} \\left(\\sin{\\left(4.0 t - x \\right)} + 2 \\cos{\\left(4.0 t + y \\right)}\\right) \\sin{\\left(4.0 t + y \\right)}}{\\left(0.5 e^{- \\sin{\\left(3.0 t \\right)} + \\sin{\\left(3.0 x \\right)} \\sin{\\left(3.0 y \\right)}} + 1\\right)^{2} \\left(e^{- \\sin{\\left(3.0 t \\right)} + \\sin{\\left(3.0 x \\right)} \\sin{\\left(3.0 y \\right)}} + 2.0\\right)}\\end{matrix}\\right]$"
      ],
      "text/plain": [
       "Matrix([\n",
       "[                                                                                                                                                                                                                                                                                                                                                                                                                                                                                                                                                                           -3.0*exp(-sin(3.0*t) + sin(3.0*x)*sin(3.0*y))*cos(3.0*t) + sin(4.0*t - x) + cos(4.0*t + y)],\n",
       "[(-0.75*(sin(3.0*x)*sin(4.0*t + y)*cos(3.0*y) + sin(3.0*y)*cos(3.0*x)*cos(4.0*t - x))*(exp(-sin(3.0*t) + sin(3.0*x)*sin(3.0*y)) + 2.0)*exp(-sin(3.0*t) + sin(3.0*x)*sin(3.0*y))*cos(4.0*t - x) + (0.5*exp(sin(3.0*x)*sin(3.0*y)) + 1.0*exp(sin(3.0*t)))**3*(6.0*exp(-2*sin(3.0*t) + 2*sin(3.0*x)*sin(3.0*y))*sin(3.0*y)*cos(3.0*x) + 12.0*exp(-sin(3.0*t) + sin(3.0*x)*sin(3.0*y))*sin(3.0*y)*cos(3.0*x) - 8.0*sin(4.0*t - x))*exp(-3*sin(3.0*t)) + (0.5*exp(-sin(3.0*t) + sin(3.0*x)*sin(3.0*y)) + 1)**2*(2*sin(4.0*t - x) + cos(4.0*t + y))*cos(4.0*t - x))/((0.5*exp(-sin(3.0*t) + sin(3.0*x)*sin(3.0*y)) + 1)**2*(exp(-sin(3.0*t) + sin(3.0*x)*sin(3.0*y)) + 2.0))],\n",
       "[(-0.75*(sin(3.0*x)*sin(4.0*t + y)*cos(3.0*y) + sin(3.0*y)*cos(3.0*x)*cos(4.0*t - x))*(exp(-sin(3.0*t) + sin(3.0*x)*sin(3.0*y)) + 2.0)*exp(-sin(3.0*t) + sin(3.0*x)*sin(3.0*y))*sin(4.0*t + y) + (0.5*exp(sin(3.0*x)*sin(3.0*y)) + 1.0*exp(sin(3.0*t)))**3*(6.0*exp(-2*sin(3.0*t) + 2*sin(3.0*x)*sin(3.0*y))*sin(3.0*x)*cos(3.0*y) + 12.0*exp(-sin(3.0*t) + sin(3.0*x)*sin(3.0*y))*sin(3.0*x)*cos(3.0*y) + 8.0*cos(4.0*t + y))*exp(-3*sin(3.0*t)) + (0.5*exp(-sin(3.0*t) + sin(3.0*x)*sin(3.0*y)) + 1)**2*(sin(4.0*t - x) + 2*cos(4.0*t + y))*sin(4.0*t + y))/((0.5*exp(-sin(3.0*t) + sin(3.0*x)*sin(3.0*y)) + 1)**2*(exp(-sin(3.0*t) + sin(3.0*x)*sin(3.0*y)) + 2.0))]])"
      ]
     },
     "execution_count": 4,
     "metadata": {},
     "output_type": "execute_result"
    }
   ],
   "source": [
    "L"
   ]
  },
  {
   "cell_type": "code",
   "execution_count": 5,
   "metadata": {},
   "outputs": [
    {
     "data": {
      "text/plain": [
       "'Matrix([[-3.0*exp(-sin(3.0*t) + sin(3.0*x)*sin(3.0*y))*cos(3.0*t) + sin(4.0*t - x) + cos(4.0*t + y)], [(-0.75*(sin(3.0*x)*sin(4.0*t + y)*cos(3.0*y) + sin(3.0*y)*cos(3.0*x)*cos(4.0*t - x))*(exp(-sin(3.0*t) + sin(3.0*x)*sin(3.0*y)) + 2.0)*exp(-sin(3.0*t) + sin(3.0*x)*sin(3.0*y))*cos(4.0*t - x) + (0.5*exp(sin(3.0*x)*sin(3.0*y)) + 1.0*exp(sin(3.0*t)))**3*(6.0*exp(-2*sin(3.0*t) + 2*sin(3.0*x)*sin(3.0*y))*sin(3.0*y)*cos(3.0*x) + 12.0*exp(-sin(3.0*t) + sin(3.0*x)*sin(3.0*y))*sin(3.0*y)*cos(3.0*x) - 8.0*sin(4.0*t - x))*exp(-3*sin(3.0*t)) + (0.5*exp(-sin(3.0*t) + sin(3.0*x)*sin(3.0*y)) + 1)**2*(2*sin(4.0*t - x) + cos(4.0*t + y))*cos(4.0*t - x))/((0.5*exp(-sin(3.0*t) + sin(3.0*x)*sin(3.0*y)) + 1)**2*(exp(-sin(3.0*t) + sin(3.0*x)*sin(3.0*y)) + 2.0))], [(-0.75*(sin(3.0*x)*sin(4.0*t + y)*cos(3.0*y) + sin(3.0*y)*cos(3.0*x)*cos(4.0*t - x))*(exp(-sin(3.0*t) + sin(3.0*x)*sin(3.0*y)) + 2.0)*exp(-sin(3.0*t) + sin(3.0*x)*sin(3.0*y))*sin(4.0*t + y) + (0.5*exp(sin(3.0*x)*sin(3.0*y)) + 1.0*exp(sin(3.0*t)))**3*(6.0*exp(-2*sin(3.0*t) + 2*sin(3.0*x)*sin(3.0*y))*sin(3.0*x)*cos(3.0*y) + 12.0*exp(-sin(3.0*t) + sin(3.0*x)*sin(3.0*y))*sin(3.0*x)*cos(3.0*y) + 8.0*cos(4.0*t + y))*exp(-3*sin(3.0*t)) + (0.5*exp(-sin(3.0*t) + sin(3.0*x)*sin(3.0*y)) + 1)**2*(sin(4.0*t - x) + 2*cos(4.0*t + y))*sin(4.0*t + y))/((0.5*exp(-sin(3.0*t) + sin(3.0*x)*sin(3.0*y)) + 1)**2*(exp(-sin(3.0*t) + sin(3.0*x)*sin(3.0*y)) + 2.0))]])'"
      ]
     },
     "execution_count": 5,
     "metadata": {},
     "output_type": "execute_result"
    }
   ],
   "source": [
    "str(L)"
   ]
  }
 ],
 "metadata": {
  "interpreter": {
   "hash": "ece76f070deb1de0ef307df15eab2ad2468ccb7ace7056cc0d8f029499462611"
  },
  "kernelspec": {
   "display_name": "Python 3.8.9 64-bit ('3.8.9': pyenv)",
   "language": "python",
   "name": "python3"
  },
  "language_info": {
   "codemirror_mode": {
    "name": "ipython",
    "version": 3
   },
   "file_extension": ".py",
   "mimetype": "text/x-python",
   "name": "python",
   "nbconvert_exporter": "python",
   "pygments_lexer": "ipython3",
   "version": "3.8.9"
  },
  "orig_nbformat": 4
 },
 "nbformat": 4,
 "nbformat_minor": 2
}
